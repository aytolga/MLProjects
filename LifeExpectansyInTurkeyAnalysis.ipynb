{
 "cells": [
  {
   "cell_type": "code",
   "execution_count": 71,
   "metadata": {},
   "outputs": [],
   "source": [
    "import numpy as np\n",
    "import pandas as pd\n",
    "import matplotlib.pyplot as plt"
   ]
  },
  {
   "cell_type": "code",
   "execution_count": 72,
   "metadata": {},
   "outputs": [
    {
     "data": {
      "text/html": [
       "<div>\n",
       "<style scoped>\n",
       "    .dataframe tbody tr th:only-of-type {\n",
       "        vertical-align: middle;\n",
       "    }\n",
       "\n",
       "    .dataframe tbody tr th {\n",
       "        vertical-align: top;\n",
       "    }\n",
       "\n",
       "    .dataframe thead th {\n",
       "        text-align: right;\n",
       "    }\n",
       "</style>\n",
       "<table border=\"1\" class=\"dataframe\">\n",
       "  <thead>\n",
       "    <tr style=\"text-align: right;\">\n",
       "      <th></th>\n",
       "      <th>Country Name</th>\n",
       "      <th>Country Code</th>\n",
       "      <th>1960</th>\n",
       "      <th>1961</th>\n",
       "      <th>1962</th>\n",
       "      <th>1963</th>\n",
       "      <th>1964</th>\n",
       "      <th>1965</th>\n",
       "      <th>1966</th>\n",
       "      <th>1967</th>\n",
       "      <th>...</th>\n",
       "      <th>2011</th>\n",
       "      <th>2012</th>\n",
       "      <th>2013</th>\n",
       "      <th>2014</th>\n",
       "      <th>2015</th>\n",
       "      <th>2016</th>\n",
       "      <th>2017</th>\n",
       "      <th>2018</th>\n",
       "      <th>2019</th>\n",
       "      <th>2020</th>\n",
       "    </tr>\n",
       "  </thead>\n",
       "  <tbody>\n",
       "    <tr>\n",
       "      <th>0</th>\n",
       "      <td>Aruba</td>\n",
       "      <td>ABW</td>\n",
       "      <td>65.662</td>\n",
       "      <td>66.074</td>\n",
       "      <td>66.444</td>\n",
       "      <td>66.787</td>\n",
       "      <td>67.113</td>\n",
       "      <td>67.435</td>\n",
       "      <td>67.762</td>\n",
       "      <td>68.095</td>\n",
       "      <td>...</td>\n",
       "      <td>75.158</td>\n",
       "      <td>75.299</td>\n",
       "      <td>75.441</td>\n",
       "      <td>75.583</td>\n",
       "      <td>75.725</td>\n",
       "      <td>75.868</td>\n",
       "      <td>76.010</td>\n",
       "      <td>76.152</td>\n",
       "      <td>76.293</td>\n",
       "      <td>76.434</td>\n",
       "    </tr>\n",
       "    <tr>\n",
       "      <th>1</th>\n",
       "      <td>Afghanistan</td>\n",
       "      <td>AFG</td>\n",
       "      <td>32.446</td>\n",
       "      <td>32.962</td>\n",
       "      <td>33.471</td>\n",
       "      <td>33.971</td>\n",
       "      <td>34.463</td>\n",
       "      <td>34.948</td>\n",
       "      <td>35.430</td>\n",
       "      <td>35.914</td>\n",
       "      <td>...</td>\n",
       "      <td>61.553</td>\n",
       "      <td>62.054</td>\n",
       "      <td>62.525</td>\n",
       "      <td>62.966</td>\n",
       "      <td>63.377</td>\n",
       "      <td>63.763</td>\n",
       "      <td>64.130</td>\n",
       "      <td>64.486</td>\n",
       "      <td>64.833</td>\n",
       "      <td>65.173</td>\n",
       "    </tr>\n",
       "    <tr>\n",
       "      <th>2</th>\n",
       "      <td>Angola</td>\n",
       "      <td>AGO</td>\n",
       "      <td>37.524</td>\n",
       "      <td>37.811</td>\n",
       "      <td>38.113</td>\n",
       "      <td>38.430</td>\n",
       "      <td>38.760</td>\n",
       "      <td>39.102</td>\n",
       "      <td>39.454</td>\n",
       "      <td>39.813</td>\n",
       "      <td>...</td>\n",
       "      <td>56.330</td>\n",
       "      <td>57.236</td>\n",
       "      <td>58.054</td>\n",
       "      <td>58.776</td>\n",
       "      <td>59.398</td>\n",
       "      <td>59.925</td>\n",
       "      <td>60.379</td>\n",
       "      <td>60.782</td>\n",
       "      <td>61.147</td>\n",
       "      <td>61.487</td>\n",
       "    </tr>\n",
       "    <tr>\n",
       "      <th>3</th>\n",
       "      <td>Albania</td>\n",
       "      <td>ALB</td>\n",
       "      <td>62.283</td>\n",
       "      <td>63.301</td>\n",
       "      <td>64.190</td>\n",
       "      <td>64.914</td>\n",
       "      <td>65.463</td>\n",
       "      <td>65.850</td>\n",
       "      <td>66.110</td>\n",
       "      <td>66.304</td>\n",
       "      <td>...</td>\n",
       "      <td>76.914</td>\n",
       "      <td>77.252</td>\n",
       "      <td>77.554</td>\n",
       "      <td>77.813</td>\n",
       "      <td>78.025</td>\n",
       "      <td>78.194</td>\n",
       "      <td>78.333</td>\n",
       "      <td>78.458</td>\n",
       "      <td>78.573</td>\n",
       "      <td>78.686</td>\n",
       "    </tr>\n",
       "    <tr>\n",
       "      <th>4</th>\n",
       "      <td>United Arab Emirates</td>\n",
       "      <td>ARE</td>\n",
       "      <td>51.537</td>\n",
       "      <td>52.560</td>\n",
       "      <td>53.573</td>\n",
       "      <td>54.572</td>\n",
       "      <td>55.555</td>\n",
       "      <td>56.523</td>\n",
       "      <td>57.482</td>\n",
       "      <td>58.432</td>\n",
       "      <td>...</td>\n",
       "      <td>76.521</td>\n",
       "      <td>76.711</td>\n",
       "      <td>76.903</td>\n",
       "      <td>77.095</td>\n",
       "      <td>77.285</td>\n",
       "      <td>77.470</td>\n",
       "      <td>77.647</td>\n",
       "      <td>77.814</td>\n",
       "      <td>77.972</td>\n",
       "      <td>78.120</td>\n",
       "    </tr>\n",
       "  </tbody>\n",
       "</table>\n",
       "<p>5 rows × 63 columns</p>\n",
       "</div>"
      ],
      "text/plain": [
       "           Country Name Country Code    1960    1961    1962    1963    1964  \\\n",
       "0                 Aruba          ABW  65.662  66.074  66.444  66.787  67.113   \n",
       "1           Afghanistan          AFG  32.446  32.962  33.471  33.971  34.463   \n",
       "2                Angola          AGO  37.524  37.811  38.113  38.430  38.760   \n",
       "3               Albania          ALB  62.283  63.301  64.190  64.914  65.463   \n",
       "4  United Arab Emirates          ARE  51.537  52.560  53.573  54.572  55.555   \n",
       "\n",
       "     1965    1966    1967  ...    2011    2012    2013    2014    2015  \\\n",
       "0  67.435  67.762  68.095  ...  75.158  75.299  75.441  75.583  75.725   \n",
       "1  34.948  35.430  35.914  ...  61.553  62.054  62.525  62.966  63.377   \n",
       "2  39.102  39.454  39.813  ...  56.330  57.236  58.054  58.776  59.398   \n",
       "3  65.850  66.110  66.304  ...  76.914  77.252  77.554  77.813  78.025   \n",
       "4  56.523  57.482  58.432  ...  76.521  76.711  76.903  77.095  77.285   \n",
       "\n",
       "     2016    2017    2018    2019    2020  \n",
       "0  75.868  76.010  76.152  76.293  76.434  \n",
       "1  63.763  64.130  64.486  64.833  65.173  \n",
       "2  59.925  60.379  60.782  61.147  61.487  \n",
       "3  78.194  78.333  78.458  78.573  78.686  \n",
       "4  77.470  77.647  77.814  77.972  78.120  \n",
       "\n",
       "[5 rows x 63 columns]"
      ]
     },
     "execution_count": 72,
     "metadata": {},
     "output_type": "execute_result"
    }
   ],
   "source": [
    "data = pd.read_csv(\"global life expectancy dataset.csv\")\n",
    "data.head()"
   ]
  },
  {
   "cell_type": "code",
   "execution_count": 73,
   "metadata": {},
   "outputs": [
    {
     "name": "stdout",
     "output_type": "stream",
     "text": [
      "Turkey in 187\n",
      "USA in 192\n"
     ]
    }
   ],
   "source": [
    "#We are going to find USA and Turkey Datas.\n",
    "\n",
    "tr_data = 0\n",
    "usa_data = 0\n",
    "\n",
    "for i in data[\"Country Code\"]:\n",
    "    tr_data += 1\n",
    "    if i == \"TUR\":\n",
    "        break\n",
    "for j in data[\"Country Code\"]:\n",
    "    usa_data += 1\n",
    "    if j == \"USA\":\n",
    "        break\n",
    "print(f\"Turkey in {tr_data-1}\")\n",
    "print(f\"USA in {usa_data-1}\")"
   ]
  },
  {
   "cell_type": "code",
   "execution_count": 74,
   "metadata": {},
   "outputs": [],
   "source": [
    "del data[\"Country Name\"]\n",
    "del data[\"Country Code\"]"
   ]
  },
  {
   "cell_type": "code",
   "execution_count": 75,
   "metadata": {},
   "outputs": [],
   "source": [
    "tr = data.iloc[187]\n",
    "usa = data.iloc[192]"
   ]
  },
  {
   "cell_type": "code",
   "execution_count": 76,
   "metadata": {},
   "outputs": [
    {
     "data": {
      "text/plain": [
       "1960    45.369\n",
       "1961    46.093\n",
       "1962    46.830\n",
       "1963    47.573\n",
       "1964    48.312\n",
       "         ...  \n",
       "2016    76.860\n",
       "2017    77.161\n",
       "2018    77.437\n",
       "2019    77.691\n",
       "2020    77.928\n",
       "Name: 187, Length: 61, dtype: float64"
      ]
     },
     "execution_count": 76,
     "metadata": {},
     "output_type": "execute_result"
    }
   ],
   "source": [
    "tr"
   ]
  },
  {
   "cell_type": "code",
   "execution_count": 77,
   "metadata": {},
   "outputs": [
    {
     "data": {
      "text/plain": [
       "1960    69.770732\n",
       "1961    70.270732\n",
       "1962    70.119512\n",
       "1963    69.917073\n",
       "1964    70.165854\n",
       "          ...    \n",
       "2016    78.539024\n",
       "2017    78.539024\n",
       "2018    78.639024\n",
       "2019    78.787805\n",
       "2020    77.280488\n",
       "Name: 192, Length: 61, dtype: float64"
      ]
     },
     "execution_count": 77,
     "metadata": {},
     "output_type": "execute_result"
    }
   ],
   "source": [
    "usa"
   ]
  },
  {
   "cell_type": "code",
   "execution_count": 78,
   "metadata": {},
   "outputs": [],
   "source": [
    "years = np.arange(1960,2021).reshape(-1,1)"
   ]
  },
  {
   "cell_type": "code",
   "execution_count": 79,
   "metadata": {},
   "outputs": [],
   "source": [
    "tr_array = np.array(tr).reshape(-1,1)"
   ]
  },
  {
   "cell_type": "code",
   "execution_count": 80,
   "metadata": {},
   "outputs": [],
   "source": [
    "usa_array = np.array(usa).reshape(-1,1)"
   ]
  },
  {
   "cell_type": "code",
   "execution_count": 81,
   "metadata": {},
   "outputs": [
    {
     "data": {
      "text/plain": [
       "<matplotlib.legend.Legend at 0x1c441aa7820>"
      ]
     },
     "execution_count": 81,
     "metadata": {},
     "output_type": "execute_result"
    },
    {
     "data": {
      "image/png": "[encoded data removed]",
      "text/plain": [
       "<Figure size 432x288 with 1 Axes>"
      ]
     },
     "metadata": {
      "needs_background": "light"
     },
     "output_type": "display_data"
    }
   ],
   "source": [
    "plt.plot(tr,years,color=\"r\")\n",
    "plt.plot(usa,years,color=\"b\")\n",
    "\n",
    "plt.xlabel(\"The Life Expectancy\")\n",
    "plt.ylabel(\"Years\")\n",
    "\n",
    "plt.legend([\"Turkey\",\"USA\"])"
   ]
  },
  {
   "cell_type": "code",
   "execution_count": 82,
   "metadata": {},
   "outputs": [
    {
     "data": {
      "text/plain": [
       "<matplotlib.legend.Legend at 0x1c441aecdf0>"
      ]
     },
     "execution_count": 82,
     "metadata": {},
     "output_type": "execute_result"
    },
    {
     "data": {
      "image/png": "[encoded data removed]",
      "text/plain": [
       "<Figure size 432x288 with 1 Axes>"
      ]
     },
     "metadata": {
      "needs_background": "light"
     },
     "output_type": "display_data"
    }
   ],
   "source": [
    "figure1 = plt.bar(60, tr[0], align='edge', width=0.4, label='Turkey')\n",
    "figure2 = plt.bar(60, usa[0], align='edge', width=-0.4, label='USA')\n",
    "plt.title(\"Life Expectancy in 1960\")\n",
    "plt.legend([\"Turkey\",\"USA\"])"
   ]
  },
  {
   "cell_type": "code",
   "execution_count": 83,
   "metadata": {},
   "outputs": [
    {
     "data": {
      "text/plain": [
       "<matplotlib.legend.Legend at 0x1c441ace8e0>"
      ]
     },
     "execution_count": 83,
     "metadata": {},
     "output_type": "execute_result"
    },
    {
     "data": {
      "image/png": "[encoded data removed]",
      "text/plain": [
       "<Figure size 432x288 with 1 Axes>"
      ]
     },
     "metadata": {
      "needs_background": "light"
     },
     "output_type": "display_data"
    }
   ],
   "source": [
    "figure1 = plt.bar(60, tr[60], align='edge', width=0.4, label='Turkey')\n",
    "figure2 = plt.bar(60, usa[60], align='edge', width=-0.4, label='USA')\n",
    "plt.title(\"Life Expectancy in 2020\")\n",
    "plt.legend([\"Turkey\",\"USA\"])"
   ]
  },
  {
   "cell_type": "code",
   "execution_count": 84,
   "metadata": {},
   "outputs": [],
   "source": [
    "\n",
    "from sklearn.model_selection import train_test_split\n",
    "x_tr_train, x_tr_test, y_tr_train, y_tr_test = train_test_split(tr_array, years, test_size=0.3, random_state=0)\n",
    "x_usa_train, x_usa_test, y_usa_train, y_usa_test = train_test_split(usa_array, years, test_size=0.3, random_state=0)\n"
   ]
  },
  {
   "cell_type": "code",
   "execution_count": 85,
   "metadata": {},
   "outputs": [
    {
     "name": "stdout",
     "output_type": "stream",
     "text": [
      "coefficient of determination: 0.9900148684679955\n"
     ]
    }
   ],
   "source": [
    "#Regression Analysis\n",
    "\n",
    "from sklearn.linear_model import LinearRegression\n",
    "lr_tr = LinearRegression()\n",
    "lr_tr.fit(x_tr_train,y_tr_train)\n",
    "tr_sq = lr_tr.score(x_tr_test, y_tr_test)\n",
    "print(f\"coefficient of determination: {tr_sq}\")"
   ]
  },
  {
   "cell_type": "code",
   "execution_count": 86,
   "metadata": {},
   "outputs": [
    {
     "name": "stdout",
     "output_type": "stream",
     "text": [
      "coefficient of determination: 0.9326435096308857\n"
     ]
    }
   ],
   "source": [
    "#Regression Analysis\n",
    "\n",
    "from sklearn.linear_model import LinearRegression\n",
    "lr_usa = LinearRegression()\n",
    "lr_usa.fit(x_usa_train,y_usa_train)\n",
    "usa_sq = lr_usa.score(x_usa_test, y_usa_test)\n",
    "print(f\"coefficient of determination: {usa_sq}\")"
   ]
  },
  {
   "cell_type": "code",
   "execution_count": 87,
   "metadata": {},
   "outputs": [],
   "source": [
    "#Graphs For Regression\n",
    "\n",
    "tr_pred = lr_tr.predict(x_tr_test)\n",
    "usa_pred = lr_usa.predict(x_usa_test)"
   ]
  },
  {
   "cell_type": "code",
   "execution_count": 88,
   "metadata": {},
   "outputs": [
    {
     "data": {
      "text/plain": [
       "Text(0, 0.5, 'Years')"
      ]
     },
     "execution_count": 88,
     "metadata": {},
     "output_type": "execute_result"
    },
    {
     "data": {
      "image/png": "[encoded data removed]",
      "text/plain": [
       "<Figure size 432x288 with 1 Axes>"
      ]
     },
     "metadata": {
      "needs_background": "light"
     },
     "output_type": "display_data"
    }
   ],
   "source": [
    "plt.scatter(x_tr_train,y_tr_train,color=\"r\")\n",
    "plt.plot(x_tr_test,tr_pred,color=\"b\")\n",
    "\n",
    "plt.title(\"Turkey's datas with Linear Regression\")\n",
    "plt.xlabel(\"Life Expectancy Rate\")\n",
    "plt.ylabel(\"Years\")"
   ]
  },
  {
   "cell_type": "code",
   "execution_count": 89,
   "metadata": {},
   "outputs": [
    {
     "data": {
      "text/plain": [
       "Text(0, 0.5, 'Years')"
      ]
     },
     "execution_count": 89,
     "metadata": {},
     "output_type": "execute_result"
    },
    {
     "data": {
      "image/png": "[encoded data removed]",
      "text/plain": [
       "<Figure size 432x288 with 1 Axes>"
      ]
     },
     "metadata": {
      "needs_background": "light"
     },
     "output_type": "display_data"
    }
   ],
   "source": [
    "plt.scatter(x_usa_train,y_usa_train,color=\"r\")\n",
    "plt.plot(x_usa_test,usa_pred,color=\"b\")\n",
    "\n",
    "plt.title(\"USA's datas with Linear Regression\")\n",
    "plt.xlabel(\"Life Expectancy Rate\")\n",
    "plt.ylabel(\"Years\")"
   ]
  },
  {
   "cell_type": "code",
   "execution_count": 148,
   "metadata": {},
   "outputs": [],
   "source": [
    "#Polynomial Regression\n",
    "\n",
    "from sklearn.preprocessing import PolynomialFeatures\n",
    "\n",
    "poly1 = PolynomialFeatures(2)\n",
    "\n",
    "poly_fit_tr = poly1.fit_transform(tr_array)\n",
    "\n",
    "tr_poly = LinearRegression()\n",
    "\n",
    "tr_poly.fit(poly_fit_tr,years)\n",
    "\n",
    "tr_pred = tr_poly.predict(poly_fit_tr)"
   ]
  },
  {
   "cell_type": "code",
   "execution_count": 153,
   "metadata": {},
   "outputs": [
    {
     "data": {
      "text/plain": [
       "Text(0.5, 1.0, 'Turkey')"
      ]
     },
     "execution_count": 153,
     "metadata": {},
     "output_type": "execute_result"
    },
    {
     "data": {
      "image/png": "[encoded data removed]",
      "text/plain": [
       "<Figure size 432x288 with 1 Axes>"
      ]
     },
     "metadata": {
      "needs_background": "light"
     },
     "output_type": "display_data"
    }
   ],
   "source": [
    "plt.scatter(tr,years,color=\"r\",alpha=0.2)\n",
    "plt.plot(tr,tr_pred)\n",
    "plt.xlabel(\"Expectancy Rate\")\n",
    "plt.ylabel(\"Years\")\n",
    "plt.title(\"Turkey\")"
   ]
  },
  {
   "cell_type": "code",
   "execution_count": 160,
   "metadata": {},
   "outputs": [],
   "source": [
    "poly2 = PolynomialFeatures(3)\n",
    "\n",
    "poly_fit_usa = poly1.fit_transform(usa_array)\n",
    "\n",
    "usa_poly = LinearRegression()\n",
    "\n",
    "usa_poly.fit(poly_fit_usa,years)\n",
    "\n",
    "usa_pred = usa_poly.predict(poly_fit_usa)"
   ]
  },
  {
   "cell_type": "code",
   "execution_count": 161,
   "metadata": {},
   "outputs": [
    {
     "data": {
      "text/plain": [
       "Text(0.5, 1.0, 'USA')"
      ]
     },
     "execution_count": 161,
     "metadata": {},
     "output_type": "execute_result"
    },
    {
     "data": {
      "image/png": "[encoded data removed]",
      "text/plain": [
       "<Figure size 432x288 with 1 Axes>"
      ]
     },
     "metadata": {
      "needs_background": "light"
     },
     "output_type": "display_data"
    }
   ],
   "source": [
    "plt.scatter(usa,years,color=\"r\",alpha=0.2)\n",
    "plt.plot(usa,usa_pred)\n",
    "plt.xlabel(\"Expectancy Rate\")\n",
    "plt.ylabel(\"Years\")\n",
    "plt.title(\"USA\")"
   ]
  },
  {
   "cell_type": "code",
   "execution_count": null,
   "metadata": {},
   "outputs": [],
   "source": [
    "#End Of the Analysis and Comperasion!"
   ]
  }
 ],
 "metadata": {
  "kernelspec": {
   "display_name": "Python 3",
   "language": "python",
   "name": "python3"
  },
  "language_info": {
   "codemirror_mode": {
    "name": "ipython",
    "version": 3
   },
   "file_extension": ".py",
   "mimetype": "text/x-python",
   "name": "python",
   "nbconvert_exporter": "python",
   "pygments_lexer": "ipython3",
   "version": "3.8.5"
  }
 },
 "nbformat": 4,
 "nbformat_minor": 4
}
